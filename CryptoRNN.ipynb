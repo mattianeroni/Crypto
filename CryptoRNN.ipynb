{
 "cells": [
  {
   "cell_type": "code",
   "execution_count": 1,
   "id": "46d8eb14",
   "metadata": {},
   "outputs": [],
   "source": [
    "#from Historic_Crypto import HistoricalData\n",
    "#eur = HistoricalData('ETH-EUR', 3600, '2020-01-01-00-00', verbose=False).retrieve_data()\n",
    "#eur.to_csv(\"Ethereum-Europe.csv\")"
   ]
  },
  {
   "cell_type": "code",
   "execution_count": 1,
   "id": "55653bc0",
   "metadata": {},
   "outputs": [
    {
     "name": "stderr",
     "output_type": "stream",
     "text": [
      "2021-08-12 14:37:48.652834: W tensorflow/stream_executor/platform/default/dso_loader.cc:64] Could not load dynamic library 'libcudart.so.11.0'; dlerror: libcudart.so.11.0: cannot open shared object file: No such file or directory\n",
      "2021-08-12 14:37:48.652860: I tensorflow/stream_executor/cuda/cudart_stub.cc:29] Ignore above cudart dlerror if you do not have a GPU set up on your machine.\n"
     ]
    }
   ],
   "source": [
    "import pandas as pd\n",
    "import numpy as np\n",
    "import matplotlib.pyplot as plt\n",
    "\n",
    "from sklearn.model_selection import train_test_split\n",
    "\n",
    "import tensorflow as tf"
   ]
  },
  {
   "cell_type": "code",
   "execution_count": 2,
   "id": "f6bc8c7a",
   "metadata": {},
   "outputs": [],
   "source": [
    "df = pd.read_csv(\"Ethereum-Europe.csv\")"
   ]
  },
  {
   "cell_type": "code",
   "execution_count": 3,
   "id": "ddb541ae",
   "metadata": {},
   "outputs": [
    {
     "data": {
      "text/html": [
       "<div>\n",
       "<style scoped>\n",
       "    .dataframe tbody tr th:only-of-type {\n",
       "        vertical-align: middle;\n",
       "    }\n",
       "\n",
       "    .dataframe tbody tr th {\n",
       "        vertical-align: top;\n",
       "    }\n",
       "\n",
       "    .dataframe thead th {\n",
       "        text-align: right;\n",
       "    }\n",
       "</style>\n",
       "<table border=\"1\" class=\"dataframe\">\n",
       "  <thead>\n",
       "    <tr style=\"text-align: right;\">\n",
       "      <th></th>\n",
       "      <th>time</th>\n",
       "      <th>low</th>\n",
       "      <th>high</th>\n",
       "      <th>open</th>\n",
       "      <th>close</th>\n",
       "      <th>volume</th>\n",
       "    </tr>\n",
       "  </thead>\n",
       "  <tbody>\n",
       "    <tr>\n",
       "      <th>0</th>\n",
       "      <td>2020-01-01 01:00:00</td>\n",
       "      <td>114.91</td>\n",
       "      <td>116.59</td>\n",
       "      <td>114.98</td>\n",
       "      <td>116.59</td>\n",
       "      <td>700.279453</td>\n",
       "    </tr>\n",
       "    <tr>\n",
       "      <th>1</th>\n",
       "      <td>2020-01-01 02:00:00</td>\n",
       "      <td>116.42</td>\n",
       "      <td>116.95</td>\n",
       "      <td>116.68</td>\n",
       "      <td>116.88</td>\n",
       "      <td>182.791804</td>\n",
       "    </tr>\n",
       "    <tr>\n",
       "      <th>2</th>\n",
       "      <td>2020-01-01 03:00:00</td>\n",
       "      <td>116.00</td>\n",
       "      <td>116.89</td>\n",
       "      <td>116.89</td>\n",
       "      <td>116.26</td>\n",
       "      <td>21.248987</td>\n",
       "    </tr>\n",
       "    <tr>\n",
       "      <th>3</th>\n",
       "      <td>2020-01-01 04:00:00</td>\n",
       "      <td>116.14</td>\n",
       "      <td>116.46</td>\n",
       "      <td>116.30</td>\n",
       "      <td>116.21</td>\n",
       "      <td>43.647860</td>\n",
       "    </tr>\n",
       "    <tr>\n",
       "      <th>4</th>\n",
       "      <td>2020-01-01 05:00:00</td>\n",
       "      <td>116.19</td>\n",
       "      <td>116.39</td>\n",
       "      <td>116.26</td>\n",
       "      <td>116.36</td>\n",
       "      <td>37.751310</td>\n",
       "    </tr>\n",
       "    <tr>\n",
       "      <th>...</th>\n",
       "      <td>...</td>\n",
       "      <td>...</td>\n",
       "      <td>...</td>\n",
       "      <td>...</td>\n",
       "      <td>...</td>\n",
       "      <td>...</td>\n",
       "    </tr>\n",
       "    <tr>\n",
       "      <th>68</th>\n",
       "      <td>2020-01-03 21:00:00</td>\n",
       "      <td>118.53</td>\n",
       "      <td>120.04</td>\n",
       "      <td>119.59</td>\n",
       "      <td>118.56</td>\n",
       "      <td>542.095749</td>\n",
       "    </tr>\n",
       "    <tr>\n",
       "      <th>69</th>\n",
       "      <td>2020-01-03 22:00:00</td>\n",
       "      <td>118.44</td>\n",
       "      <td>119.46</td>\n",
       "      <td>118.63</td>\n",
       "      <td>119.20</td>\n",
       "      <td>449.028235</td>\n",
       "    </tr>\n",
       "    <tr>\n",
       "      <th>70</th>\n",
       "      <td>2020-01-03 23:00:00</td>\n",
       "      <td>119.21</td>\n",
       "      <td>120.90</td>\n",
       "      <td>119.21</td>\n",
       "      <td>120.16</td>\n",
       "      <td>660.278605</td>\n",
       "    </tr>\n",
       "    <tr>\n",
       "      <th>71</th>\n",
       "      <td>2020-01-04 00:00:00</td>\n",
       "      <td>119.40</td>\n",
       "      <td>120.98</td>\n",
       "      <td>120.32</td>\n",
       "      <td>119.68</td>\n",
       "      <td>1166.216767</td>\n",
       "    </tr>\n",
       "    <tr>\n",
       "      <th>72</th>\n",
       "      <td>2020-01-04 01:00:00</td>\n",
       "      <td>118.88</td>\n",
       "      <td>119.68</td>\n",
       "      <td>119.68</td>\n",
       "      <td>119.05</td>\n",
       "      <td>63.165625</td>\n",
       "    </tr>\n",
       "  </tbody>\n",
       "</table>\n",
       "<p>73 rows × 6 columns</p>\n",
       "</div>"
      ],
      "text/plain": [
       "                   time     low    high    open   close       volume\n",
       "0   2020-01-01 01:00:00  114.91  116.59  114.98  116.59   700.279453\n",
       "1   2020-01-01 02:00:00  116.42  116.95  116.68  116.88   182.791804\n",
       "2   2020-01-01 03:00:00  116.00  116.89  116.89  116.26    21.248987\n",
       "3   2020-01-01 04:00:00  116.14  116.46  116.30  116.21    43.647860\n",
       "4   2020-01-01 05:00:00  116.19  116.39  116.26  116.36    37.751310\n",
       "..                  ...     ...     ...     ...     ...          ...\n",
       "68  2020-01-03 21:00:00  118.53  120.04  119.59  118.56   542.095749\n",
       "69  2020-01-03 22:00:00  118.44  119.46  118.63  119.20   449.028235\n",
       "70  2020-01-03 23:00:00  119.21  120.90  119.21  120.16   660.278605\n",
       "71  2020-01-04 00:00:00  119.40  120.98  120.32  119.68  1166.216767\n",
       "72  2020-01-04 01:00:00  118.88  119.68  119.68  119.05    63.165625\n",
       "\n",
       "[73 rows x 6 columns]"
      ]
     },
     "execution_count": 3,
     "metadata": {},
     "output_type": "execute_result"
    }
   ],
   "source": [
    "df.head(5)"
   ]
  },
  {
   "cell_type": "code",
   "execution_count": 4,
   "id": "81108f85",
   "metadata": {},
   "outputs": [],
   "source": [
    "def extract (dataset, period = 72):\n",
    "    X, y = [], []\n",
    "    for i, v in enumerate(dataset):\n",
    "        if i > period:\n",
    "            X.append(dataset[i-period:i])\n",
    "            y.append(v[-1])\n",
    "    return np.asarray(X), np.asarray(y)"
   ]
  },
  {
   "cell_type": "code",
   "execution_count": 5,
   "id": "fad3cad0",
   "metadata": {},
   "outputs": [
    {
     "data": {
      "text/plain": [
       "((14055, 72, 4), (14055,))"
      ]
     },
     "execution_count": 5,
     "metadata": {},
     "output_type": "execute_result"
    }
   ],
   "source": [
    "X, y = extract(df.iloc[:,1:5].to_numpy())\n",
    "X.shape, y.shape"
   ]
  },
  {
   "cell_type": "code",
   "execution_count": 6,
   "id": "4a1d078b",
   "metadata": {},
   "outputs": [],
   "source": [
    "X_train, X_test, y_train, y_test = train_test_split(X, y, test_size=0.2, shuffle=False)"
   ]
  },
  {
   "cell_type": "code",
   "execution_count": 7,
   "id": "7959ca44",
   "metadata": {},
   "outputs": [
    {
     "name": "stderr",
     "output_type": "stream",
     "text": [
      "2021-08-12 14:37:55.608476: W tensorflow/stream_executor/platform/default/dso_loader.cc:64] Could not load dynamic library 'libcuda.so.1'; dlerror: libcuda.so.1: cannot open shared object file: No such file or directory\n",
      "2021-08-12 14:37:55.608508: W tensorflow/stream_executor/cuda/cuda_driver.cc:269] failed call to cuInit: UNKNOWN ERROR (303)\n",
      "2021-08-12 14:37:55.608526: I tensorflow/stream_executor/cuda/cuda_diagnostics.cc:156] kernel driver does not appear to be running on this host (mattia-aspire): /proc/driver/nvidia/version does not exist\n",
      "2021-08-12 14:37:55.608717: I tensorflow/core/platform/cpu_feature_guard.cc:142] This TensorFlow binary is optimized with oneAPI Deep Neural Network Library (oneDNN) to use the following CPU instructions in performance-critical operations:  AVX2 FMA\n",
      "To enable them in other operations, rebuild TensorFlow with the appropriate compiler flags.\n"
     ]
    },
    {
     "name": "stdout",
     "output_type": "stream",
     "text": [
      "Model: \"sequential\"\n",
      "_________________________________________________________________\n",
      "Layer (type)                 Output Shape              Param #   \n",
      "=================================================================\n",
      "lstm (LSTM)                  (None, 32)                4736      \n",
      "_________________________________________________________________\n",
      "dropout (Dropout)            (None, 32)                0         \n",
      "_________________________________________________________________\n",
      "dense (Dense)                (None, 1)                 33        \n",
      "=================================================================\n",
      "Total params: 4,769\n",
      "Trainable params: 4,769\n",
      "Non-trainable params: 0\n",
      "_________________________________________________________________\n"
     ]
    }
   ],
   "source": [
    "model = tf.keras.models.Sequential()\n",
    "\n",
    "model.add(tf.keras.layers.LSTM(units=32, activation=\"relu\", input_shape=(X_train.shape[1], X_train.shape[2])))\n",
    "model.add(tf.keras.layers.Dropout(rate=0.2))\n",
    "model.add(tf.keras.layers.Dense(units=1, activation=\"relu\"))\n",
    "\n",
    "model.compile(loss='mean_squared_error', optimizer='adam')\n",
    "model.summary()"
   ]
  },
  {
   "cell_type": "code",
   "execution_count": null,
   "id": "b1c32e58",
   "metadata": {},
   "outputs": [
    {
     "name": "stderr",
     "output_type": "stream",
     "text": [
      "2021-08-12 14:38:06.728392: I tensorflow/compiler/mlir/mlir_graph_optimization_pass.cc:185] None of the MLIR Optimization Passes are enabled (registered 2)\n"
     ]
    }
   ],
   "source": [
    "callbacks = [\n",
    "    tf.keras.callbacks.EarlyStopping(\n",
    "        monitor=\"val_loss\",\n",
    "        patience=50, \n",
    "        restore_best_weights=True,\n",
    "        verbose=0\n",
    "    )\n",
    "]\n",
    "    \n",
    "history = model.fit(\n",
    "    X_train, \n",
    "    y_train, \n",
    "    epochs=100, \n",
    "    batch_size=32, \n",
    "    validation_split=0.1, \n",
    "    verbose=False,\n",
    "    callbacks=callbacks\n",
    ")\n",
    "\n",
    "plt.plot(history.history['loss'], label='loss')\n",
    "plt.plot(history.history['val_loss'], label='val_loss')\n",
    "plt.legend()\n",
    "plt.show()"
   ]
  },
  {
   "cell_type": "code",
   "execution_count": null,
   "id": "30698452",
   "metadata": {},
   "outputs": [],
   "source": [
    "h_test = model.predict(X_test)\n",
    "\n",
    "plt.figure(figsize=(10,6))\n",
    "plt.plot(y_test, label=\"real\")\n",
    "plt.plot(h_test, label=\"predict\")\n",
    "plt.legend()\n",
    "plt.show()"
   ]
  },
  {
   "cell_type": "code",
   "execution_count": null,
   "id": "07c571cf",
   "metadata": {},
   "outputs": [],
   "source": []
  }
 ],
 "metadata": {
  "kernelspec": {
   "display_name": "Python 3 (ipykernel)",
   "language": "python",
   "name": "python3"
  },
  "language_info": {
   "codemirror_mode": {
    "name": "ipython",
    "version": 3
   },
   "file_extension": ".py",
   "mimetype": "text/x-python",
   "name": "python",
   "nbconvert_exporter": "python",
   "pygments_lexer": "ipython3",
   "version": "3.9.5"
  }
 },
 "nbformat": 4,
 "nbformat_minor": 5
}
